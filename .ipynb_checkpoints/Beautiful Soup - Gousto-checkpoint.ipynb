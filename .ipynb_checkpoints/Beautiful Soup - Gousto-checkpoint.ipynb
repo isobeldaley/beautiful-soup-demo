{
 "cells": [
  {
   "cell_type": "code",
   "execution_count": 2,
   "metadata": {},
   "outputs": [],
   "source": [
    "from bs4 import BeautifulSoup\n",
    "import requests\n",
    "import re\n",
    "import pandas as pd"
   ]
  },
  {
   "cell_type": "code",
   "execution_count": 3,
   "metadata": {},
   "outputs": [],
   "source": [
    "resp = requests.get('https://www.gousto.co.uk/menu')"
   ]
  },
  {
   "cell_type": "code",
   "execution_count": 4,
   "metadata": {},
   "outputs": [],
   "source": [
    "soup = BeautifulSoup(resp.content, 'html.parser')"
   ]
  },
  {
   "cell_type": "code",
   "execution_count": 5,
   "metadata": {},
   "outputs": [
    {
     "data": {
      "text/plain": [
       "<h2 class=\"Gb13b81 Gacce4c G182867\" data-reactid=\"161\"><!-- react-text: 162 -->Korean-Style Fried Chicken With Garlic Pak Choi<!-- /react-text --><span class=\"G4222ac Ga616ac G02c220 Gdeb30e\" data-reactid=\"163\"></span></h2>"
      ]
     },
     "execution_count": 5,
     "metadata": {},
     "output_type": "execute_result"
    }
   ],
   "source": [
    "recipe_title_container = soup.findAll('h2')\n",
    "recipe_title_container[0]"
   ]
  },
  {
   "cell_type": "code",
   "execution_count": 6,
   "metadata": {},
   "outputs": [
    {
     "data": {
      "text/plain": [
       "'Korean-Style Fried Chicken With Garlic Pak Choi'"
      ]
     },
     "execution_count": 6,
     "metadata": {},
     "output_type": "execute_result"
    }
   ],
   "source": [
    "recipe_title_container[0].text"
   ]
  },
  {
   "cell_type": "code",
   "execution_count": 7,
   "metadata": {},
   "outputs": [
    {
     "data": {
      "text/plain": [
       "['Korean-Style Fried Chicken With Garlic Pak Choi',\n",
       " '10-Min Chicken & Black Bean Noodle Stir-Fry',\n",
       " 'Malaysian Coconut Chicken & Pickled Cucumber',\n",
       " 'Protein-Packed Chicken Milanese',\n",
       " 'Fiesta Chicken Fajitas',\n",
       " 'Chicken, Date & Tamarind Curry',\n",
       " 'Mild Chicken Curry',\n",
       " 'American Cheeseburger & Potato Wedges',\n",
       " 'Baked Beef Meatballs With Tomato Sauce & Linguine',\n",
       " 'Goan Fish & Spinach Curry, Coriander Rice',\n",
       " 'Lamb Keema Saag, Nigella Rice & Naan',\n",
       " 'Bánh Mì Style Chicken Salad & Sesame Croutons',\n",
       " 'Classic Chilli Con Carne',\n",
       " 'Creamy Chicken Potato-Topped Pie',\n",
       " 'Comforting Cottage Pie',\n",
       " '10-Min Pulled Pork Ragù With Spaghetti',\n",
       " 'Pork Belly With BBQ Sauce, Apple Slaw & Chips',\n",
       " 'Pan-Fried Cod With Tomato & Caper Relish',\n",
       " 'Sausages, Chips & Curry Sauce',\n",
       " 'Bacon, Red Pesto & Broccoli Tortiglioni',\n",
       " \"Extra Special Bangers 'N’ Mash\",\n",
       " \"Feel Good Fish 'N’ Chips\",\n",
       " 'Big Flavour Beef Lasagne',\n",
       " 'Simply Perfect Spag Bol',\n",
       " '10-Min Nasi Goreng With Sriracha (V)',\n",
       " 'Smoky Fish & Sweet Potato Curry',\n",
       " 'Pork, Pineapple & Red Onion Tacos',\n",
       " \"Spicy Pork & 'Nduja Meatball Ciabatta\",\n",
       " 'Fragrant Vegetable Sambar With Coconut Yoghurt (V)',\n",
       " 'Loaded Veggie Sweet Potato Nachos (V)',\n",
       " 'Butternut Squash, Lentil & Coconut Dal (V)',\n",
       " '10-Min Mediterranean Veg Gnocchi With Basil (V)',\n",
       " 'Sri Lankan Crab & Prawn Curry',\n",
       " '3 Cheese Veg-Packed Pasta Bake (V)',\n",
       " 'Cherry Tomato & Homemade Basil Pesto Pizza (V)',\n",
       " 'Balsamic-Glazed Tofu Kebabs, Crispy Potatoes (V)',\n",
       " 'Creamy Coronation Chickpea Salad (V)',\n",
       " '10-Min Jumbo Prawn Singapore Noodles',\n",
       " '10-Min Blackened Salmon Bowl With Corn & Feta',\n",
       " 'Garlic & Herb Rump Steak, Wedges & Green Beans']"
      ]
     },
     "execution_count": 7,
     "metadata": {},
     "output_type": "execute_result"
    }
   ],
   "source": [
    "recipe_titles = []\n",
    "for i in range(0, len(recipe_title_container)):\n",
    "    recipe_titles.append(recipe_title_container[i].text)\n",
    "recipe_titles\n",
    "    "
   ]
  },
  {
   "cell_type": "code",
   "execution_count": 8,
   "metadata": {},
   "outputs": [
    {
     "data": {
      "text/plain": [
       "'\\xa0\\xa0Use within 2 - 3 days'"
      ]
     },
     "execution_count": 8,
     "metadata": {},
     "output_type": "execute_result"
    }
   ],
   "source": [
    "recipe_description_container = soup.findAll(class_='G4cc08a G588f69 Gc4ecb0 G351fc6')\n",
    "recipe_description_container[7].text"
   ]
  },
  {
   "cell_type": "code",
   "execution_count": 9,
   "metadata": {},
   "outputs": [
    {
     "data": {
      "text/plain": [
       "['Takes 35 mins',\n",
       " 'Use within 2 - 3 days',\n",
       " 'Equipment required',\n",
       " '2/5 a day',\n",
       " 'Takes 10 mins',\n",
       " 'Use within 2 - 3 days',\n",
       " 'Takes 40 mins',\n",
       " 'Use within 2 - 3 days',\n",
       " 'Equipment required',\n",
       " '1/5 a day',\n",
       " 'Takes 35 mins',\n",
       " 'Use within 4 - 5 days',\n",
       " 'Equipment required',\n",
       " '2/5 a day',\n",
       " 'Takes 20 mins',\n",
       " 'Use within 3 - 4 days',\n",
       " '2/5 a day',\n",
       " 'Takes 40 mins',\n",
       " 'Use within 4 - 5 days',\n",
       " '2/5 a day']"
      ]
     },
     "execution_count": 9,
     "metadata": {},
     "output_type": "execute_result"
    }
   ],
   "source": [
    "recipe_additional_info = []\n",
    "for i in range(0, len(recipe_description_container)):\n",
    "    info = re.sub('\\xa0\\xa0', '',recipe_description_container[i].text)\n",
    "    recipe_additional_info.append(info)\n",
    "recipe_additional_info[0:20]"
   ]
  },
  {
   "cell_type": "code",
   "execution_count": 10,
   "metadata": {},
   "outputs": [],
   "source": [
    "recipe_additional_info = [x for x in recipe_additional_info if x != 'Equipment required']\n",
    "recipe_additional_info = [x for x in recipe_additional_info if x != 'Vegetarian']\n",
    "recipe_additional_info = [x for x in recipe_additional_info if x != 'Plant-based']"
   ]
  },
  {
   "cell_type": "code",
   "execution_count": 11,
   "metadata": {
    "scrolled": false
   },
   "outputs": [
    {
     "data": {
      "text/plain": [
       "['Takes 35 mins',\n",
       " 'Use within 2 - 3 days',\n",
       " '2/5 a day',\n",
       " 'Takes 10 mins',\n",
       " 'Use within 2 - 3 days',\n",
       " 'Takes 40 mins',\n",
       " 'Use within 2 - 3 days',\n",
       " '1/5 a day',\n",
       " 'Takes 35 mins',\n",
       " 'Use within 4 - 5 days',\n",
       " '2/5 a day',\n",
       " 'Takes 20 mins',\n",
       " 'Use within 3 - 4 days',\n",
       " '2/5 a day',\n",
       " 'Takes 40 mins',\n",
       " 'Use within 4 - 5 days',\n",
       " '2/5 a day',\n",
       " 'Takes 25 mins',\n",
       " 'Use within 2 - 3 days',\n",
       " '2/5 a day']"
      ]
     },
     "execution_count": 11,
     "metadata": {},
     "output_type": "execute_result"
    }
   ],
   "source": [
    "recipe_additional_info[0:20]"
   ]
  },
  {
   "cell_type": "code",
   "execution_count": 12,
   "metadata": {},
   "outputs": [
    {
     "data": {
      "text/plain": [
       "112"
      ]
     },
     "execution_count": 12,
     "metadata": {},
     "output_type": "execute_result"
    }
   ],
   "source": [
    "len(recipe_additional_info)"
   ]
  },
  {
   "cell_type": "code",
   "execution_count": 13,
   "metadata": {},
   "outputs": [
    {
     "data": {
      "text/plain": [
       "40"
      ]
     },
     "execution_count": 13,
     "metadata": {},
     "output_type": "execute_result"
    }
   ],
   "source": [
    "len(recipe_titles)"
   ]
  },
  {
   "cell_type": "code",
   "execution_count": 14,
   "metadata": {},
   "outputs": [],
   "source": [
    "recipe_time_taken = [x for x in recipe_additional_info if x.startswith('Takes')]\n",
    "recipe_use_by = [x for x in recipe_additional_info if x.startswith('Use')]\n",
    "recipe_veg_portions = [x for x in recipe_additional_info if x.endswith('a day')]"
   ]
  },
  {
   "cell_type": "code",
   "execution_count": 15,
   "metadata": {},
   "outputs": [
    {
     "name": "stdout",
     "output_type": "stream",
     "text": [
      "length time taken: 40\n",
      "length use by: 40\n",
      "length veg portions: 32\n"
     ]
    }
   ],
   "source": [
    "print('length time taken:', len(recipe_time_taken))\n",
    "print('length use by:', len(recipe_use_by))\n",
    "print('length veg portions:', len(recipe_veg_portions))"
   ]
  },
  {
   "cell_type": "code",
   "execution_count": 16,
   "metadata": {},
   "outputs": [
    {
     "data": {
      "text/html": [
       "<div>\n",
       "<style scoped>\n",
       "    .dataframe tbody tr th:only-of-type {\n",
       "        vertical-align: middle;\n",
       "    }\n",
       "\n",
       "    .dataframe tbody tr th {\n",
       "        vertical-align: top;\n",
       "    }\n",
       "\n",
       "    .dataframe thead th {\n",
       "        text-align: right;\n",
       "    }\n",
       "</style>\n",
       "<table border=\"1\" class=\"dataframe\">\n",
       "  <thead>\n",
       "    <tr style=\"text-align: right;\">\n",
       "      <th></th>\n",
       "      <th>Recipe Title</th>\n",
       "      <th>Time Required</th>\n",
       "      <th>Use By</th>\n",
       "    </tr>\n",
       "  </thead>\n",
       "  <tbody>\n",
       "    <tr>\n",
       "      <th>0</th>\n",
       "      <td>Korean-Style Fried Chicken With Garlic Pak Choi</td>\n",
       "      <td>Takes 35 mins</td>\n",
       "      <td>Use within 2 - 3 days</td>\n",
       "    </tr>\n",
       "    <tr>\n",
       "      <th>1</th>\n",
       "      <td>10-Min Chicken &amp; Black Bean Noodle Stir-Fry</td>\n",
       "      <td>Takes 10 mins</td>\n",
       "      <td>Use within 2 - 3 days</td>\n",
       "    </tr>\n",
       "    <tr>\n",
       "      <th>2</th>\n",
       "      <td>Malaysian Coconut Chicken &amp; Pickled Cucumber</td>\n",
       "      <td>Takes 40 mins</td>\n",
       "      <td>Use within 2 - 3 days</td>\n",
       "    </tr>\n",
       "    <tr>\n",
       "      <th>3</th>\n",
       "      <td>Protein-Packed Chicken Milanese</td>\n",
       "      <td>Takes 35 mins</td>\n",
       "      <td>Use within 4 - 5 days</td>\n",
       "    </tr>\n",
       "    <tr>\n",
       "      <th>4</th>\n",
       "      <td>Fiesta Chicken Fajitas</td>\n",
       "      <td>Takes 20 mins</td>\n",
       "      <td>Use within 3 - 4 days</td>\n",
       "    </tr>\n",
       "    <tr>\n",
       "      <th>5</th>\n",
       "      <td>Chicken, Date &amp; Tamarind Curry</td>\n",
       "      <td>Takes 40 mins</td>\n",
       "      <td>Use within 4 - 5 days</td>\n",
       "    </tr>\n",
       "    <tr>\n",
       "      <th>6</th>\n",
       "      <td>Mild Chicken Curry</td>\n",
       "      <td>Takes 25 mins</td>\n",
       "      <td>Use within 2 - 3 days</td>\n",
       "    </tr>\n",
       "    <tr>\n",
       "      <th>7</th>\n",
       "      <td>American Cheeseburger &amp; Potato Wedges</td>\n",
       "      <td>Takes 35 mins</td>\n",
       "      <td>Use within 3 - 4 days</td>\n",
       "    </tr>\n",
       "    <tr>\n",
       "      <th>8</th>\n",
       "      <td>Baked Beef Meatballs With Tomato Sauce &amp; Linguine</td>\n",
       "      <td>Takes 45 mins</td>\n",
       "      <td>Use within 3 - 4 days</td>\n",
       "    </tr>\n",
       "    <tr>\n",
       "      <th>9</th>\n",
       "      <td>Goan Fish &amp; Spinach Curry, Coriander Rice</td>\n",
       "      <td>Takes 20 mins</td>\n",
       "      <td>Use within 3 - 4 days</td>\n",
       "    </tr>\n",
       "    <tr>\n",
       "      <th>10</th>\n",
       "      <td>Lamb Keema Saag, Nigella Rice &amp; Naan</td>\n",
       "      <td>Takes 35 mins</td>\n",
       "      <td>Use within 3 - 4 days</td>\n",
       "    </tr>\n",
       "    <tr>\n",
       "      <th>11</th>\n",
       "      <td>Bánh Mì Style Chicken Salad &amp; Sesame Croutons</td>\n",
       "      <td>Takes 20 mins</td>\n",
       "      <td>Use within 3 - 4 days</td>\n",
       "    </tr>\n",
       "    <tr>\n",
       "      <th>12</th>\n",
       "      <td>Classic Chilli Con Carne</td>\n",
       "      <td>Takes 25 mins</td>\n",
       "      <td>Use within 3 - 4 days</td>\n",
       "    </tr>\n",
       "    <tr>\n",
       "      <th>13</th>\n",
       "      <td>Creamy Chicken Potato-Topped Pie</td>\n",
       "      <td>Takes 45 mins</td>\n",
       "      <td>Use within 4 - 5 days</td>\n",
       "    </tr>\n",
       "    <tr>\n",
       "      <th>14</th>\n",
       "      <td>Comforting Cottage Pie</td>\n",
       "      <td>Takes 40 mins</td>\n",
       "      <td>Use within 3 - 4 days</td>\n",
       "    </tr>\n",
       "    <tr>\n",
       "      <th>15</th>\n",
       "      <td>10-Min Pulled Pork Ragù With Spaghetti</td>\n",
       "      <td>Takes 10 mins</td>\n",
       "      <td>Use within 4 - 5 days</td>\n",
       "    </tr>\n",
       "    <tr>\n",
       "      <th>16</th>\n",
       "      <td>Pork Belly With BBQ Sauce, Apple Slaw &amp; Chips</td>\n",
       "      <td>Takes 50 mins</td>\n",
       "      <td>Use within 4 - 5 days</td>\n",
       "    </tr>\n",
       "    <tr>\n",
       "      <th>17</th>\n",
       "      <td>Pan-Fried Cod With Tomato &amp; Caper Relish</td>\n",
       "      <td>Takes 20 mins</td>\n",
       "      <td>Use within 3 - 4 days</td>\n",
       "    </tr>\n",
       "    <tr>\n",
       "      <th>18</th>\n",
       "      <td>Sausages, Chips &amp; Curry Sauce</td>\n",
       "      <td>Takes 30 mins</td>\n",
       "      <td>Use within 4 - 5 days</td>\n",
       "    </tr>\n",
       "    <tr>\n",
       "      <th>19</th>\n",
       "      <td>Bacon, Red Pesto &amp; Broccoli Tortiglioni</td>\n",
       "      <td>Takes 20 mins</td>\n",
       "      <td>Use within 5 - 6 days</td>\n",
       "    </tr>\n",
       "    <tr>\n",
       "      <th>20</th>\n",
       "      <td>Extra Special Bangers 'N’ Mash</td>\n",
       "      <td>Takes 35 mins</td>\n",
       "      <td>Use within 4 - 5 days</td>\n",
       "    </tr>\n",
       "    <tr>\n",
       "      <th>21</th>\n",
       "      <td>Feel Good Fish 'N’ Chips</td>\n",
       "      <td>Takes 25 mins</td>\n",
       "      <td>Use within 3 - 4 days</td>\n",
       "    </tr>\n",
       "    <tr>\n",
       "      <th>22</th>\n",
       "      <td>Big Flavour Beef Lasagne</td>\n",
       "      <td>Takes 45 mins</td>\n",
       "      <td>Use within 3 - 4 days</td>\n",
       "    </tr>\n",
       "    <tr>\n",
       "      <th>23</th>\n",
       "      <td>Simply Perfect Spag Bol</td>\n",
       "      <td>Takes 25 mins</td>\n",
       "      <td>Use within 3 - 4 days</td>\n",
       "    </tr>\n",
       "    <tr>\n",
       "      <th>24</th>\n",
       "      <td>10-Min Nasi Goreng With Sriracha (V)</td>\n",
       "      <td>Takes 10 mins</td>\n",
       "      <td>Use within 2 - 3 days</td>\n",
       "    </tr>\n",
       "    <tr>\n",
       "      <th>25</th>\n",
       "      <td>Smoky Fish &amp; Sweet Potato Curry</td>\n",
       "      <td>Takes 30 mins</td>\n",
       "      <td>Use within 3 - 4 days</td>\n",
       "    </tr>\n",
       "    <tr>\n",
       "      <th>26</th>\n",
       "      <td>Pork, Pineapple &amp; Red Onion Tacos</td>\n",
       "      <td>Takes 25 mins</td>\n",
       "      <td>Use within 3 - 4 days</td>\n",
       "    </tr>\n",
       "    <tr>\n",
       "      <th>27</th>\n",
       "      <td>Spicy Pork &amp; 'Nduja Meatball Ciabatta</td>\n",
       "      <td>Takes 35 mins</td>\n",
       "      <td>Use within 3 - 4 days</td>\n",
       "    </tr>\n",
       "    <tr>\n",
       "      <th>28</th>\n",
       "      <td>Fragrant Vegetable Sambar With Coconut Yoghurt...</td>\n",
       "      <td>Takes 35 mins</td>\n",
       "      <td>Use within 5 - 6 days</td>\n",
       "    </tr>\n",
       "    <tr>\n",
       "      <th>29</th>\n",
       "      <td>Loaded Veggie Sweet Potato Nachos (V)</td>\n",
       "      <td>Takes 30 mins</td>\n",
       "      <td>Use within 2 - 3 days</td>\n",
       "    </tr>\n",
       "    <tr>\n",
       "      <th>30</th>\n",
       "      <td>Butternut Squash, Lentil &amp; Coconut Dal (V)</td>\n",
       "      <td>Takes 25 mins</td>\n",
       "      <td>Use within 2 - 3 days</td>\n",
       "    </tr>\n",
       "    <tr>\n",
       "      <th>31</th>\n",
       "      <td>10-Min Mediterranean Veg Gnocchi With Basil (V)</td>\n",
       "      <td>Takes 10 mins</td>\n",
       "      <td>Use within 5 - 6 days</td>\n",
       "    </tr>\n",
       "    <tr>\n",
       "      <th>32</th>\n",
       "      <td>Sri Lankan Crab &amp; Prawn Curry</td>\n",
       "      <td>Takes 25 mins</td>\n",
       "      <td>Use within 2 - 3 days</td>\n",
       "    </tr>\n",
       "    <tr>\n",
       "      <th>33</th>\n",
       "      <td>3 Cheese Veg-Packed Pasta Bake (V)</td>\n",
       "      <td>Takes 25 mins</td>\n",
       "      <td>Use within 5 - 6 days</td>\n",
       "    </tr>\n",
       "    <tr>\n",
       "      <th>34</th>\n",
       "      <td>Cherry Tomato &amp; Homemade Basil Pesto Pizza (V)</td>\n",
       "      <td>Takes 25 mins</td>\n",
       "      <td>Use within 3 - 4 days</td>\n",
       "    </tr>\n",
       "    <tr>\n",
       "      <th>35</th>\n",
       "      <td>Balsamic-Glazed Tofu Kebabs, Crispy Potatoes (V)</td>\n",
       "      <td>Takes 30 mins</td>\n",
       "      <td>Use within 5 - 6 days</td>\n",
       "    </tr>\n",
       "    <tr>\n",
       "      <th>36</th>\n",
       "      <td>Creamy Coronation Chickpea Salad (V)</td>\n",
       "      <td>Takes 20 mins</td>\n",
       "      <td>Use within 2 - 3 days</td>\n",
       "    </tr>\n",
       "    <tr>\n",
       "      <th>37</th>\n",
       "      <td>10-Min Jumbo Prawn Singapore Noodles</td>\n",
       "      <td>Takes 10 mins</td>\n",
       "      <td>Use within 2 - 3 days</td>\n",
       "    </tr>\n",
       "    <tr>\n",
       "      <th>38</th>\n",
       "      <td>10-Min Blackened Salmon Bowl With Corn &amp; Feta</td>\n",
       "      <td>Takes 10 mins</td>\n",
       "      <td>Use within 3 - 4 days</td>\n",
       "    </tr>\n",
       "    <tr>\n",
       "      <th>39</th>\n",
       "      <td>Garlic &amp; Herb Rump Steak, Wedges &amp; Green Beans</td>\n",
       "      <td>Takes 30 mins</td>\n",
       "      <td>Use within 3 - 4 days</td>\n",
       "    </tr>\n",
       "  </tbody>\n",
       "</table>\n",
       "</div>"
      ],
      "text/plain": [
       "                                         Recipe Title  Time Required  \\\n",
       "0     Korean-Style Fried Chicken With Garlic Pak Choi  Takes 35 mins   \n",
       "1         10-Min Chicken & Black Bean Noodle Stir-Fry  Takes 10 mins   \n",
       "2        Malaysian Coconut Chicken & Pickled Cucumber  Takes 40 mins   \n",
       "3                     Protein-Packed Chicken Milanese  Takes 35 mins   \n",
       "4                              Fiesta Chicken Fajitas  Takes 20 mins   \n",
       "5                      Chicken, Date & Tamarind Curry  Takes 40 mins   \n",
       "6                                  Mild Chicken Curry  Takes 25 mins   \n",
       "7               American Cheeseburger & Potato Wedges  Takes 35 mins   \n",
       "8   Baked Beef Meatballs With Tomato Sauce & Linguine  Takes 45 mins   \n",
       "9           Goan Fish & Spinach Curry, Coriander Rice  Takes 20 mins   \n",
       "10               Lamb Keema Saag, Nigella Rice & Naan  Takes 35 mins   \n",
       "11     Bánh Mì Style Chicken Salad & Sesame Croutons  Takes 20 mins   \n",
       "12                           Classic Chilli Con Carne  Takes 25 mins   \n",
       "13                   Creamy Chicken Potato-Topped Pie  Takes 45 mins   \n",
       "14                             Comforting Cottage Pie  Takes 40 mins   \n",
       "15             10-Min Pulled Pork Ragù With Spaghetti  Takes 10 mins   \n",
       "16      Pork Belly With BBQ Sauce, Apple Slaw & Chips  Takes 50 mins   \n",
       "17           Pan-Fried Cod With Tomato & Caper Relish  Takes 20 mins   \n",
       "18                      Sausages, Chips & Curry Sauce  Takes 30 mins   \n",
       "19            Bacon, Red Pesto & Broccoli Tortiglioni  Takes 20 mins   \n",
       "20                     Extra Special Bangers 'N’ Mash  Takes 35 mins   \n",
       "21                           Feel Good Fish 'N’ Chips  Takes 25 mins   \n",
       "22                           Big Flavour Beef Lasagne  Takes 45 mins   \n",
       "23                            Simply Perfect Spag Bol  Takes 25 mins   \n",
       "24               10-Min Nasi Goreng With Sriracha (V)  Takes 10 mins   \n",
       "25                    Smoky Fish & Sweet Potato Curry  Takes 30 mins   \n",
       "26                  Pork, Pineapple & Red Onion Tacos  Takes 25 mins   \n",
       "27              Spicy Pork & 'Nduja Meatball Ciabatta  Takes 35 mins   \n",
       "28  Fragrant Vegetable Sambar With Coconut Yoghurt...  Takes 35 mins   \n",
       "29              Loaded Veggie Sweet Potato Nachos (V)  Takes 30 mins   \n",
       "30         Butternut Squash, Lentil & Coconut Dal (V)  Takes 25 mins   \n",
       "31    10-Min Mediterranean Veg Gnocchi With Basil (V)  Takes 10 mins   \n",
       "32                      Sri Lankan Crab & Prawn Curry  Takes 25 mins   \n",
       "33                 3 Cheese Veg-Packed Pasta Bake (V)  Takes 25 mins   \n",
       "34     Cherry Tomato & Homemade Basil Pesto Pizza (V)  Takes 25 mins   \n",
       "35   Balsamic-Glazed Tofu Kebabs, Crispy Potatoes (V)  Takes 30 mins   \n",
       "36               Creamy Coronation Chickpea Salad (V)  Takes 20 mins   \n",
       "37               10-Min Jumbo Prawn Singapore Noodles  Takes 10 mins   \n",
       "38      10-Min Blackened Salmon Bowl With Corn & Feta  Takes 10 mins   \n",
       "39     Garlic & Herb Rump Steak, Wedges & Green Beans  Takes 30 mins   \n",
       "\n",
       "                   Use By  \n",
       "0   Use within 2 - 3 days  \n",
       "1   Use within 2 - 3 days  \n",
       "2   Use within 2 - 3 days  \n",
       "3   Use within 4 - 5 days  \n",
       "4   Use within 3 - 4 days  \n",
       "5   Use within 4 - 5 days  \n",
       "6   Use within 2 - 3 days  \n",
       "7   Use within 3 - 4 days  \n",
       "8   Use within 3 - 4 days  \n",
       "9   Use within 3 - 4 days  \n",
       "10  Use within 3 - 4 days  \n",
       "11  Use within 3 - 4 days  \n",
       "12  Use within 3 - 4 days  \n",
       "13  Use within 4 - 5 days  \n",
       "14  Use within 3 - 4 days  \n",
       "15  Use within 4 - 5 days  \n",
       "16  Use within 4 - 5 days  \n",
       "17  Use within 3 - 4 days  \n",
       "18  Use within 4 - 5 days  \n",
       "19  Use within 5 - 6 days  \n",
       "20  Use within 4 - 5 days  \n",
       "21  Use within 3 - 4 days  \n",
       "22  Use within 3 - 4 days  \n",
       "23  Use within 3 - 4 days  \n",
       "24  Use within 2 - 3 days  \n",
       "25  Use within 3 - 4 days  \n",
       "26  Use within 3 - 4 days  \n",
       "27  Use within 3 - 4 days  \n",
       "28  Use within 5 - 6 days  \n",
       "29  Use within 2 - 3 days  \n",
       "30  Use within 2 - 3 days  \n",
       "31  Use within 5 - 6 days  \n",
       "32  Use within 2 - 3 days  \n",
       "33  Use within 5 - 6 days  \n",
       "34  Use within 3 - 4 days  \n",
       "35  Use within 5 - 6 days  \n",
       "36  Use within 2 - 3 days  \n",
       "37  Use within 2 - 3 days  \n",
       "38  Use within 3 - 4 days  \n",
       "39  Use within 3 - 4 days  "
      ]
     },
     "execution_count": 16,
     "metadata": {},
     "output_type": "execute_result"
    }
   ],
   "source": [
    "df = pd.DataFrame([recipe_titles, recipe_time_taken, recipe_use_by]).transpose()\n",
    "df.columns = ['Recipe Title', 'Time Required', 'Use By']\n",
    "df"
   ]
  },
  {
   "cell_type": "code",
   "execution_count": null,
   "metadata": {},
   "outputs": [],
   "source": []
  }
 ],
 "metadata": {
  "kernelspec": {
   "display_name": "Python 3",
   "language": "python",
   "name": "python3"
  },
  "language_info": {
   "codemirror_mode": {
    "name": "ipython",
    "version": 3
   },
   "file_extension": ".py",
   "mimetype": "text/x-python",
   "name": "python",
   "nbconvert_exporter": "python",
   "pygments_lexer": "ipython3",
   "version": "3.7.3"
  }
 },
 "nbformat": 4,
 "nbformat_minor": 2
}
